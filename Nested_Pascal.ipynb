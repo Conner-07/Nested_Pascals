{
 "cells": [
  {
   "cell_type": "code",
   "execution_count": 1,
   "id": "b2ac4566-992b-4214-b3b0-34a87cb4b107",
   "metadata": {},
   "outputs": [
    {
     "name": "stdin",
     "output_type": "stream",
     "text": [
      "Enter an integer:  55\n"
     ]
    },
    {
     "name": "stdout",
     "output_type": "stream",
     "text": [
      "Prime numbers between 2 and 55 are:\n",
      "2\n",
      "3\n",
      "5\n",
      "7\n",
      "11\n",
      "13\n",
      "17\n",
      "19\n",
      "23\n",
      "29\n",
      "31\n",
      "37\n",
      "41\n",
      "43\n",
      "47\n",
      "53\n"
     ]
    }
   ],
   "source": [
    "\n",
    "max_num = int(input(\"Enter an integer: \"))\n",
    "\n",
    "print(\"Prime numbers between 2 and\", max_num, \"are:\")\n",
    "for num in range(2, max_num + 1):\n",
    "    prime = True\n",
    "    if num > 1:\n",
    "        for i in range(2, int(num ** 0.5) + 1):\n",
    "            if num % i == 0:\n",
    "                prime = False\n",
    "                break\n",
    "        if prime:\n",
    "            print(num)\n"
   ]
  },
  {
   "cell_type": "code",
   "execution_count": 5,
   "id": "f4d5d5f2-abfb-4f07-9efc-18b309447321",
   "metadata": {},
   "outputs": [
    {
     "name": "stdin",
     "output_type": "stream",
     "text": [
      "Enter the number of rows for Pascal's Triangle:  4\n"
     ]
    },
    {
     "name": "stdout",
     "output_type": "stream",
     "text": [
      "1 \n",
      "1 1 \n",
      "1 2 1 \n",
      "1 3 3 1 \n"
     ]
    }
   ],
   "source": [
    "\n",
    "num_rows = int(input(\"Enter the number of rows for Pascal's Triangle: \"))\n",
    "\n",
    "# Initialize with 0s \n",
    "pascal_values = [[0] * row for row in range(1, num_rows + 1)]\n",
    "\n",
    "for row in range(num_rows):\n",
    "    for col in range(row + 1):\n",
    "        if col == 0 or col == row:\n",
    "            pascal_values[row][col] = 1\n",
    "        else:\n",
    "            pascal_values[row][col] = pascal_values[row - 1][col - 1] + pascal_values[row - 1][col]\n",
    "for row in pascal_values:\n",
    "    for value in row:\n",
    "        print(value, end=\" \")\n",
    "    print()\n"
   ]
  },
  {
   "cell_type": "code",
   "execution_count": null,
   "id": "784f13ed-ba87-4f10-ac72-81d8c2147e45",
   "metadata": {},
   "outputs": [],
   "source": []
  }
 ],
 "metadata": {
  "kernelspec": {
   "display_name": "Python 3 (ipykernel)",
   "language": "python",
   "name": "python3"
  },
  "language_info": {
   "codemirror_mode": {
    "name": "ipython",
    "version": 3
   },
   "file_extension": ".py",
   "mimetype": "text/x-python",
   "name": "python",
   "nbconvert_exporter": "python",
   "pygments_lexer": "ipython3",
   "version": "3.11.5"
  }
 },
 "nbformat": 4,
 "nbformat_minor": 5
}
